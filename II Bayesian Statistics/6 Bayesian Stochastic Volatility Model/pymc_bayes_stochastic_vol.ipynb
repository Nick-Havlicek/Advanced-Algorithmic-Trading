{
 "cells": [
  {
   "cell_type": "code",
   "execution_count": 4,
   "metadata": {},
   "outputs": [
    {
     "name": "stdout",
     "output_type": "stream",
     "text": [
      "Downloading and plotting AMZN log returns...\n"
     ]
    },
    {
     "ename": "TypeError",
     "evalue": "string indices must be integers, not 'str'",
     "output_type": "error",
     "traceback": [
      "\u001b[1;31m---------------------------------------------------------------------------\u001b[0m",
      "\u001b[1;31mTypeError\u001b[0m                                 Traceback (most recent call last)",
      "Cell \u001b[1;32mIn[4], line 69\u001b[0m\n\u001b[0;32m     67\u001b[0m end_date \u001b[38;5;241m=\u001b[39m datetime\u001b[38;5;241m.\u001b[39mdatetime(\u001b[38;5;241m2015\u001b[39m, \u001b[38;5;241m12\u001b[39m, \u001b[38;5;241m31\u001b[39m)\n\u001b[0;32m     68\u001b[0m \u001b[38;5;66;03m# Obtain and plot the logarithmic returns of Amazon prices\u001b[39;00m\n\u001b[1;32m---> 69\u001b[0m amzn_df \u001b[38;5;241m=\u001b[39m \u001b[43mobtain_plot_amazon_prices_dataframe\u001b[49m\u001b[43m(\u001b[49m\u001b[43mstart_date\u001b[49m\u001b[43m,\u001b[49m\u001b[43m \u001b[49m\u001b[43mend_date\u001b[49m\u001b[43m)\u001b[49m\n\u001b[0;32m     70\u001b[0m log_returns \u001b[38;5;241m=\u001b[39m np\u001b[38;5;241m.\u001b[39marray(amzn_df[\u001b[38;5;124m\"\u001b[39m\u001b[38;5;124mlog_returns\u001b[39m\u001b[38;5;124m\"\u001b[39m])\n\u001b[0;32m     71\u001b[0m \u001b[38;5;66;03m# Configure the stochastic volatility model and carry out\u001b[39;00m\n\u001b[0;32m     72\u001b[0m \u001b[38;5;66;03m# MCMC sampling using NUTS, plotting the trace\u001b[39;00m\n",
      "Cell \u001b[1;32mIn[4], line 17\u001b[0m, in \u001b[0;36mobtain_plot_amazon_prices_dataframe\u001b[1;34m(start_date, end_date)\u001b[0m\n\u001b[0;32m     13\u001b[0m \u001b[38;5;250m\u001b[39m\u001b[38;5;124;03m\"\"\"\u001b[39;00m\n\u001b[0;32m     14\u001b[0m \u001b[38;5;124;03mDownload, calculate and plot the AMZN logarithmic returns.\u001b[39;00m\n\u001b[0;32m     15\u001b[0m \u001b[38;5;124;03m\"\"\"\u001b[39;00m\n\u001b[0;32m     16\u001b[0m \u001b[38;5;28mprint\u001b[39m(\u001b[38;5;124m\"\u001b[39m\u001b[38;5;124mDownloading and plotting AMZN log returns...\u001b[39m\u001b[38;5;124m\"\u001b[39m)\n\u001b[1;32m---> 17\u001b[0m amzn \u001b[38;5;241m=\u001b[39m \u001b[43mpdr\u001b[49m\u001b[38;5;241;43m.\u001b[39;49m\u001b[43mget_data_yahoo\u001b[49m\u001b[43m(\u001b[49m\u001b[38;5;124;43m\"\u001b[39;49m\u001b[38;5;124;43mAMZN\u001b[39;49m\u001b[38;5;124;43m\"\u001b[39;49m\u001b[43m,\u001b[49m\u001b[43m \u001b[49m\u001b[43mstart_date\u001b[49m\u001b[43m,\u001b[49m\u001b[43m \u001b[49m\u001b[43mend_date\u001b[49m\u001b[43m)\u001b[49m\n\u001b[0;32m     18\u001b[0m amzn[\u001b[38;5;124m\"\u001b[39m\u001b[38;5;124mreturns\u001b[39m\u001b[38;5;124m\"\u001b[39m] \u001b[38;5;241m=\u001b[39m amzn[\u001b[38;5;124m\"\u001b[39m\u001b[38;5;124mAdj Close\u001b[39m\u001b[38;5;124m\"\u001b[39m]\u001b[38;5;241m/\u001b[39mamzn[\u001b[38;5;124m\"\u001b[39m\u001b[38;5;124mAdj Close\u001b[39m\u001b[38;5;124m\"\u001b[39m]\u001b[38;5;241m.\u001b[39mshift(\u001b[38;5;241m1\u001b[39m)\n\u001b[0;32m     19\u001b[0m amzn\u001b[38;5;241m.\u001b[39mdropna(inplace\u001b[38;5;241m=\u001b[39m\u001b[38;5;28;01mTrue\u001b[39;00m)\n",
      "File \u001b[1;32mc:\\Users\\Nick\\anaconda3\\envs\\pymc_env_0\\Lib\\site-packages\\pandas_datareader\\data.py:80\u001b[0m, in \u001b[0;36mget_data_yahoo\u001b[1;34m(*args, **kwargs)\u001b[0m\n\u001b[0;32m     79\u001b[0m \u001b[38;5;28;01mdef\u001b[39;00m \u001b[38;5;21mget_data_yahoo\u001b[39m(\u001b[38;5;241m*\u001b[39margs, \u001b[38;5;241m*\u001b[39m\u001b[38;5;241m*\u001b[39mkwargs):\n\u001b[1;32m---> 80\u001b[0m     \u001b[38;5;28;01mreturn\u001b[39;00m \u001b[43mYahooDailyReader\u001b[49m\u001b[43m(\u001b[49m\u001b[38;5;241;43m*\u001b[39;49m\u001b[43margs\u001b[49m\u001b[43m,\u001b[49m\u001b[43m \u001b[49m\u001b[38;5;241;43m*\u001b[39;49m\u001b[38;5;241;43m*\u001b[39;49m\u001b[43mkwargs\u001b[49m\u001b[43m)\u001b[49m\u001b[38;5;241;43m.\u001b[39;49m\u001b[43mread\u001b[49m\u001b[43m(\u001b[49m\u001b[43m)\u001b[49m\n",
      "File \u001b[1;32mc:\\Users\\Nick\\anaconda3\\envs\\pymc_env_0\\Lib\\site-packages\\pandas_datareader\\base.py:253\u001b[0m, in \u001b[0;36m_DailyBaseReader.read\u001b[1;34m(self)\u001b[0m\n\u001b[0;32m    251\u001b[0m \u001b[38;5;66;03m# If a single symbol, (e.g., 'GOOG')\u001b[39;00m\n\u001b[0;32m    252\u001b[0m \u001b[38;5;28;01mif\u001b[39;00m \u001b[38;5;28misinstance\u001b[39m(\u001b[38;5;28mself\u001b[39m\u001b[38;5;241m.\u001b[39msymbols, (string_types, \u001b[38;5;28mint\u001b[39m)):\n\u001b[1;32m--> 253\u001b[0m     df \u001b[38;5;241m=\u001b[39m \u001b[38;5;28;43mself\u001b[39;49m\u001b[38;5;241;43m.\u001b[39;49m\u001b[43m_read_one_data\u001b[49m\u001b[43m(\u001b[49m\u001b[38;5;28;43mself\u001b[39;49m\u001b[38;5;241;43m.\u001b[39;49m\u001b[43murl\u001b[49m\u001b[43m,\u001b[49m\u001b[43m \u001b[49m\u001b[43mparams\u001b[49m\u001b[38;5;241;43m=\u001b[39;49m\u001b[38;5;28;43mself\u001b[39;49m\u001b[38;5;241;43m.\u001b[39;49m\u001b[43m_get_params\u001b[49m\u001b[43m(\u001b[49m\u001b[38;5;28;43mself\u001b[39;49m\u001b[38;5;241;43m.\u001b[39;49m\u001b[43msymbols\u001b[49m\u001b[43m)\u001b[49m\u001b[43m)\u001b[49m\n\u001b[0;32m    254\u001b[0m \u001b[38;5;66;03m# Or multiple symbols, (e.g., ['GOOG', 'AAPL', 'MSFT'])\u001b[39;00m\n\u001b[0;32m    255\u001b[0m \u001b[38;5;28;01melif\u001b[39;00m \u001b[38;5;28misinstance\u001b[39m(\u001b[38;5;28mself\u001b[39m\u001b[38;5;241m.\u001b[39msymbols, DataFrame):\n",
      "File \u001b[1;32mc:\\Users\\Nick\\anaconda3\\envs\\pymc_env_0\\Lib\\site-packages\\pandas_datareader\\yahoo\\daily.py:153\u001b[0m, in \u001b[0;36mYahooDailyReader._read_one_data\u001b[1;34m(self, url, params)\u001b[0m\n\u001b[0;32m    151\u001b[0m \u001b[38;5;28;01mtry\u001b[39;00m:\n\u001b[0;32m    152\u001b[0m     j \u001b[38;5;241m=\u001b[39m json\u001b[38;5;241m.\u001b[39mloads(re\u001b[38;5;241m.\u001b[39msearch(ptrn, resp\u001b[38;5;241m.\u001b[39mtext, re\u001b[38;5;241m.\u001b[39mDOTALL)\u001b[38;5;241m.\u001b[39mgroup(\u001b[38;5;241m1\u001b[39m))\n\u001b[1;32m--> 153\u001b[0m     data \u001b[38;5;241m=\u001b[39m \u001b[43mj\u001b[49m\u001b[43m[\u001b[49m\u001b[38;5;124;43m\"\u001b[39;49m\u001b[38;5;124;43mcontext\u001b[39;49m\u001b[38;5;124;43m\"\u001b[39;49m\u001b[43m]\u001b[49m\u001b[43m[\u001b[49m\u001b[38;5;124;43m\"\u001b[39;49m\u001b[38;5;124;43mdispatcher\u001b[39;49m\u001b[38;5;124;43m\"\u001b[39;49m\u001b[43m]\u001b[49m\u001b[43m[\u001b[49m\u001b[38;5;124;43m\"\u001b[39;49m\u001b[38;5;124;43mstores\u001b[39;49m\u001b[38;5;124;43m\"\u001b[39;49m\u001b[43m]\u001b[49m\u001b[43m[\u001b[49m\u001b[38;5;124;43m\"\u001b[39;49m\u001b[38;5;124;43mHistoricalPriceStore\u001b[39;49m\u001b[38;5;124;43m\"\u001b[39;49m\u001b[43m]\u001b[49m\n\u001b[0;32m    154\u001b[0m \u001b[38;5;28;01mexcept\u001b[39;00m \u001b[38;5;167;01mKeyError\u001b[39;00m:\n\u001b[0;32m    155\u001b[0m     msg \u001b[38;5;241m=\u001b[39m \u001b[38;5;124m\"\u001b[39m\u001b[38;5;124mNo data fetched for symbol \u001b[39m\u001b[38;5;132;01m{}\u001b[39;00m\u001b[38;5;124m using \u001b[39m\u001b[38;5;132;01m{}\u001b[39;00m\u001b[38;5;124m\"\u001b[39m\n",
      "\u001b[1;31mTypeError\u001b[0m: string indices must be integers, not 'str'"
     ]
    }
   ],
   "source": [
    "# pymc3_bayes_stochastic_vol.py\n",
    "import datetime\n",
    "import pprint\n",
    "import matplotlib.pyplot as plt\n",
    "import numpy as np\n",
    "import pandas as pd\n",
    "import pandas_datareader as pdr\n",
    "import pymc as pm\n",
    "from pymc.distributions.timeseries import GaussianRandomWalk\n",
    "import seaborn as sns\n",
    "\n",
    "def obtain_plot_amazon_prices_dataframe(start_date, end_date):\n",
    "    \"\"\"\n",
    "    Download, calculate and plot the AMZN logarithmic returns.\n",
    "    \"\"\"\n",
    "    print(\"Downloading and plotting AMZN log returns...\")\n",
    "    amzn = pdr.get_data_yahoo(\"AMZN\", start_date, end_date)\n",
    "    amzn[\"returns\"] = amzn[\"Adj Close\"]/amzn[\"Adj Close\"].shift(1)\n",
    "    amzn.dropna(inplace=True)\n",
    "    amzn[\"log_returns\"] = np.log(amzn[\"returns\"])\n",
    "    amzn[\"log_returns\"].plot(linewidth=0.5)\n",
    "    plt.ylabel(\"AMZN daily percentage returns\")\n",
    "    plt.show()\n",
    "    return amzn\n",
    "\n",
    "def configure_sample_stoch_vol_model(log_returns, samples):\n",
    "    \"\"\"\n",
    "    Configure the stochastic volatility model using PyMC3\n",
    "    in a 'with' context. Then sample from the model using\n",
    "    the No-U-Turn-Sampler (NUTS).\n",
    "    Plot the logarithmic volatility process and then the\n",
    "    absolute returns overlaid with the estimated vol.\n",
    "    \"\"\"\n",
    "    print(\"Configuring stochastic volatility with PyMC3...\")\n",
    "    model = pm.Model()\n",
    "    with model:\n",
    "        sigma = pm.Exponential('sigma', 50.0, testval=0.1)\n",
    "        nu = pm.Exponential('nu', 0.1)\n",
    "        s = GaussianRandomWalk('s', sigma**-2, shape=len(log_returns))\n",
    "        logrets = pm.StudentT(\n",
    "        'logrets', nu,\n",
    "        lam=pm.math.exp(-2.0*s),\n",
    "        observed=log_returns\n",
    "        )\n",
    "    print(\"Fitting the stochastic volatility model...\")\n",
    "    with model:\n",
    "        trace = pm.sample(samples)\n",
    "    pm.traceplot(trace, model.vars[:-1])\n",
    "    plt.show()\n",
    "    print(\"Plotting the log volatility...\")\n",
    "    k = 10\n",
    "    opacity = 0.03\n",
    "    plt.plot(trace[s][::k].T, 'b', alpha=opacity)\n",
    "    plt.xlabel('Time')\n",
    "    plt.ylabel('Log Volatility')\n",
    "    plt.show()\n",
    "    print(\"Plotting the absolute returns overlaid with vol...\")\n",
    "    plt.plot(np.abs(np.exp(log_returns))-1.0, linewidth=0.5)\n",
    "    plt.plot(np.exp(trace[s][::k].T), 'r', alpha=opacity)\n",
    "    plt.xlabel(\"Trading Days\")\n",
    "    plt.ylabel(\"Absolute Returns/Volatility\")\n",
    "    plt.show()\n",
    "\n",
    "if __name__ == \"__main__\":\n",
    "    # State the starting and ending dates of the AMZN returns\n",
    "    start_date = datetime.datetime(2006, 1, 1)\n",
    "    end_date = datetime.datetime(2015, 12, 31)\n",
    "    # Obtain and plot the logarithmic returns of Amazon prices\n",
    "    amzn_df = obtain_plot_amazon_prices_dataframe(start_date, end_date)\n",
    "    log_returns = np.array(amzn_df[\"log_returns\"])\n",
    "    # Configure the stochastic volatility model and carry out\n",
    "    # MCMC sampling using NUTS, plotting the trace\n",
    "    samples = 2000\n",
    "    configure_sample_stoch_vol_model(log_returns, samples)"
   ]
  }
 ],
 "metadata": {
  "kernelspec": {
   "display_name": "pymc_env_0",
   "language": "python",
   "name": "python3"
  },
  "language_info": {
   "codemirror_mode": {
    "name": "ipython",
    "version": 3
   },
   "file_extension": ".py",
   "mimetype": "text/x-python",
   "name": "python",
   "nbconvert_exporter": "python",
   "pygments_lexer": "ipython3",
   "version": "3.11.8"
  }
 },
 "nbformat": 4,
 "nbformat_minor": 2
}
